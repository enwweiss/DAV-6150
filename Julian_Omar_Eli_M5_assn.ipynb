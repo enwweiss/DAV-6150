{
 "cells": [
  {
   "cell_type": "markdown",
   "metadata": {},
   "source": [
    "#  Classification Metrics Module 5 Assignment.\n",
    "\n",
    "## Group members:\n",
    "    \n",
    "    - Eli Weiss.\n",
    "    - Julian Ruggiero.\n",
    "    - Omar M. Hussein.\n",
    "    \n",
    "## Introduction\n",
    "\n",
    "In this assignment we are going to be creating several functions to measure the classification metrics of our binary classification model including accuracy, precision, recall (sensitivity), specificity and f1 score. Additionally, we will calculate the ROC and AUC and compare it to the ones populated by sklearn prebuilt functions.\n",
    "\n",
    "The data set was provided along with the assignment instructions."
   ]
  },
  {
   "cell_type": "markdown",
   "metadata": {},
   "source": [
    "## Tasks"
   ]
  },
  {
   "cell_type": "markdown",
   "metadata": {},
   "source": [
    "__1)__ Load the provided M5_Data.csv file to your DAV 6150 Github Repository.\n",
    "\n",
    "Here we are only going to load the 3 columns that we need for the assignment"
   ]
  },
  {
   "cell_type": "markdown",
   "metadata": {},
   "source": [
    "__2)__ Then, using a Jupyter Notebook, read the data set from your Github repository and load it into a Pandas dataframe."
   ]
  },
  {
   "cell_type": "code",
   "execution_count": 1,
   "metadata": {},
   "outputs": [
    {
     "name": "stdout",
     "output_type": "stream",
     "text": [
      "(181, 3)\n"
     ]
    },
    {
     "data": {
      "text/html": [
       "<div>\n",
       "<style>\n",
       "    .dataframe thead tr:only-child th {\n",
       "        text-align: right;\n",
       "    }\n",
       "\n",
       "    .dataframe thead th {\n",
       "        text-align: left;\n",
       "    }\n",
       "\n",
       "    .dataframe tbody tr th {\n",
       "        vertical-align: top;\n",
       "    }\n",
       "</style>\n",
       "<table border=\"1\" class=\"dataframe\">\n",
       "  <thead>\n",
       "    <tr style=\"text-align: right;\">\n",
       "      <th></th>\n",
       "      <th>class</th>\n",
       "      <th>scored.class</th>\n",
       "      <th>scored.probability</th>\n",
       "    </tr>\n",
       "  </thead>\n",
       "  <tbody>\n",
       "    <tr>\n",
       "      <th>0</th>\n",
       "      <td>0</td>\n",
       "      <td>0</td>\n",
       "      <td>0.328452</td>\n",
       "    </tr>\n",
       "    <tr>\n",
       "      <th>1</th>\n",
       "      <td>0</td>\n",
       "      <td>0</td>\n",
       "      <td>0.273190</td>\n",
       "    </tr>\n",
       "    <tr>\n",
       "      <th>2</th>\n",
       "      <td>1</td>\n",
       "      <td>0</td>\n",
       "      <td>0.109660</td>\n",
       "    </tr>\n",
       "    <tr>\n",
       "      <th>3</th>\n",
       "      <td>0</td>\n",
       "      <td>0</td>\n",
       "      <td>0.055998</td>\n",
       "    </tr>\n",
       "    <tr>\n",
       "      <th>4</th>\n",
       "      <td>0</td>\n",
       "      <td>0</td>\n",
       "      <td>0.100491</td>\n",
       "    </tr>\n",
       "  </tbody>\n",
       "</table>\n",
       "</div>"
      ],
      "text/plain": [
       "   class  scored.class  scored.probability\n",
       "0      0             0            0.328452\n",
       "1      0             0            0.273190\n",
       "2      1             0            0.109660\n",
       "3      0             0            0.055998\n",
       "4      0             0            0.100491"
      ]
     },
     "execution_count": 1,
     "metadata": {},
     "output_type": "execute_result"
    }
   ],
   "source": [
    "import pandas as pd\n",
    "import numpy as np\n",
    "import matplotlib.pyplot as plt\n",
    "\n",
    "#I read and save the dataset from my GitHub page using pd.read_csv\n",
    "df=pd.read_csv('https://raw.githubusercontent.com/enwweiss/DAV-6150/master/M5_Data.csv')\n",
    "\n",
    "#I print the shape to verify that is the same as the one documented (9568,5)\n",
    "print(df.shape)\n",
    "df.head()"
   ]
  },
  {
   "cell_type": "markdown",
   "metadata": {},
   "source": [
    "whenever the scored.probability is:\n",
    "- lower than '0.5', the model predicted a 0 for scored.class column.\n",
    "- greater than '0.5', the model predicted a 1 for scored.class column."
   ]
  },
  {
   "cell_type": "code",
   "execution_count": 2,
   "metadata": {},
   "outputs": [
    {
     "name": "stdout",
     "output_type": "stream",
     "text": [
      "<class 'pandas.core.frame.DataFrame'>\n",
      "RangeIndex: 181 entries, 0 to 180\n",
      "Data columns (total 3 columns):\n",
      "class                 181 non-null int64\n",
      "scored.class          181 non-null int64\n",
      "scored.probability    181 non-null float64\n",
      "dtypes: float64(1), int64(2)\n",
      "memory usage: 4.3 KB\n"
     ]
    }
   ],
   "source": [
    "#checking data types and if there are any null values\n",
    "df.info()"
   ]
  },
  {
   "cell_type": "markdown",
   "metadata": {},
   "source": [
    "- __class:__ the actual classification for the observation<br/>\n",
    "- __scored.class:__ the predicted classification for the observation (can only be ‘0’ or ‘1’; identified by\n",
    "comparing the classification model’s probability score (i.e., the likelihood that the correct classification\n",
    "for an observation is a ‘1’) for the observation against a 0.50 threshold))<br/>\n",
    "- __scored.probability:__ the classification model’s probability score (i.e., the likelihood that the correct\n",
    "classification for an observation is a ‘1’) for the observation"
   ]
  },
  {
   "cell_type": "markdown",
   "metadata": {},
   "source": [
    "__3)__ Use Pandas’ __crosstab()__ function to calculate the contents of a confusion matrix for the data. Make sure you closely examine the output e.g., do the rows represent the actual or the predicted classification? What about the columns? (HINT: A good way to ensure you understand the output of the __crosstab()__ function is to check the __value_counts()__ for the dataframe columns you’ve used as input to the __crosstab()__ function. When observing the __value_counts()__, determine whether the rows or columns in the crosstab() output sum to the respective __value_counts()__ figures)."
   ]
  },
  {
   "cell_type": "markdown",
   "metadata": {},
   "source": [
    "So here we count the total number of True positives, False positives, False negatives and True negatives."
   ]
  },
  {
   "cell_type": "markdown",
   "metadata": {},
   "source": [
    "In this part, we display the False Negative and the True Negative counts."
   ]
  },
  {
   "cell_type": "code",
   "execution_count": 3,
   "metadata": {},
   "outputs": [
    {
     "data": {
      "text/plain": [
       "0    119\n",
       "1      5\n",
       "Name: scored.class, dtype: int64"
      ]
     },
     "execution_count": 3,
     "metadata": {},
     "output_type": "execute_result"
    }
   ],
   "source": [
    "#checking value counts \n",
    "df[df['class'] == 0]['scored.class'].value_counts()"
   ]
  },
  {
   "cell_type": "markdown",
   "metadata": {},
   "source": [
    "In this part, we display the True postive and the False postive counts."
   ]
  },
  {
   "cell_type": "code",
   "execution_count": 4,
   "metadata": {},
   "outputs": [
    {
     "data": {
      "text/plain": [
       "0    30\n",
       "1    27\n",
       "Name: scored.class, dtype: int64"
      ]
     },
     "execution_count": 4,
     "metadata": {},
     "output_type": "execute_result"
    }
   ],
   "source": [
    "#checking value counts\n",
    "df[df['class'] == 1]['scored.class'].value_counts()"
   ]
  },
  {
   "cell_type": "markdown",
   "metadata": {},
   "source": [
    "__4)__ Extract the individual confusion matrix values (i.e., True Positive, False Positive, True Negative, False Negative) from the output of the __crosstab()__ function and save them for later use (e.g., save them each to individual variables or to the data structure of your choice). Knowing how to properly extract these values from the output of crosstab() will serve you well throughout the remainder of the assignment"
   ]
  },
  {
   "cell_type": "markdown",
   "metadata": {},
   "source": [
    "We use the pd.crosstab and provide the actual class and scored.class to get the complete confusion matrix."
   ]
  },
  {
   "cell_type": "code",
   "execution_count": 5,
   "metadata": {},
   "outputs": [
    {
     "name": "stdout",
     "output_type": "stream",
     "text": [
      "scored.class    0   1\n",
      "class                \n",
      "0             119   5\n",
      "1              30  27\n"
     ]
    }
   ],
   "source": [
    "CF = pd.crosstab(df['class'],df['scored.class'])\n",
    "print(CF)"
   ]
  },
  {
   "cell_type": "markdown",
   "metadata": {},
   "source": [
    "We can see that the values provided by the crosstab function matches the value_counts() in the original from previous task."
   ]
  },
  {
   "cell_type": "markdown",
   "metadata": {},
   "source": [
    "__5)__ Write a Python function that accepts as input the actual and predicted classifications for any binary classification data and then calculates and returns the __accuracy__ metric for the predictions without utilizing any pre-built Python accuracy metric calculation functions."
   ]
  },
  {
   "cell_type": "markdown",
   "metadata": {},
   "source": [
    "First define a helper function to be used with several tasks that follows."
   ]
  },
  {
   "cell_type": "code",
   "execution_count": 6,
   "metadata": {
    "collapsed": true
   },
   "outputs": [],
   "source": [
    "def get_confusion_elements(actual_class, predicted_class):\n",
    "    \"\"\"Helper function that creates a confusion matrix and return its 4 elements for a\n",
    "    binary classification\"\"\"\n",
    "    conf_matrix = pd.crosstab(actual_class, predicted_class)\n",
    "\n",
    "    \n",
    "    tp = conf_matrix[1][1]\n",
    "    tn = conf_matrix[0][0]\n",
    "    fp = conf_matrix[1][0]\n",
    "    fn = conf_matrix[0][1]\n",
    "    \n",
    "    #returns the 4 elements\n",
    "    return tp,tn,fp,fn"
   ]
  },
  {
   "cell_type": "markdown",
   "metadata": {},
   "source": [
    "Defining a function to get the accuracy."
   ]
  },
  {
   "cell_type": "code",
   "execution_count": 7,
   "metadata": {
    "collapsed": true
   },
   "outputs": [],
   "source": [
    "def get_classification_accuracy(actual_class, predicted_class):\n",
    "    \"\"\"Receives 2 list/series with the actual and predicted classifications \n",
    "    for any binary classification data and returns the accuracy metric\"\"\"\n",
    "    \n",
    "    tp,tn,fp,fn = get_confusion_elements(actual_class, predicted_class)\n",
    "    \n",
    "    accuracy = (tp+tn)/(tp+fp+fn+tn)\n",
    "    return accuracy"
   ]
  },
  {
   "cell_type": "code",
   "execution_count": 8,
   "metadata": {},
   "outputs": [
    {
     "name": "stdout",
     "output_type": "stream",
     "text": [
      "Accuracy:  0.806629834254\n"
     ]
    }
   ],
   "source": [
    "#\n",
    "accuracy = get_classification_accuracy(df['class'],df['scored.class'])\n",
    "print(\"Accuracy: \",accuracy)"
   ]
  },
  {
   "cell_type": "markdown",
   "metadata": {},
   "source": [
    "We can se that we have an accuracy of 0.8066"
   ]
  },
  {
   "cell_type": "markdown",
   "metadata": {},
   "source": [
    "__6)__ Write a Python function that accepts as input the actual and predicted classifications for any binary classification data and then calculates and returns the __precision__ metric for the predictions without utilizing any pre-built Python classification metric calculation functions."
   ]
  },
  {
   "cell_type": "markdown",
   "metadata": {},
   "source": [
    "Defining a function to get the precision."
   ]
  },
  {
   "cell_type": "code",
   "execution_count": 9,
   "metadata": {
    "collapsed": true
   },
   "outputs": [],
   "source": [
    "def classification_precision(actual_class, predicted_class):\n",
    "    \"\"\"Receives 2 list/series with the actual and predicted classifications \n",
    "    for any binary classification data and returns the precision metric\"\"\"\n",
    "    \n",
    "    tp,tn,fp,fn = get_confusion_elements(actual_class, predicted_class)\n",
    "    \n",
    "    precision = tp / (tp+fp)\n",
    "    return precision"
   ]
  },
  {
   "cell_type": "code",
   "execution_count": 10,
   "metadata": {},
   "outputs": [
    {
     "name": "stdout",
     "output_type": "stream",
     "text": [
      "Precision:  0.84375\n"
     ]
    }
   ],
   "source": [
    "precision = classification_precision(df['class'],df['scored.class'])\n",
    "print(\"Precision: \",precision)"
   ]
  },
  {
   "cell_type": "markdown",
   "metadata": {},
   "source": [
    "We achieved a precision of 0.84375"
   ]
  },
  {
   "cell_type": "markdown",
   "metadata": {},
   "source": [
    "__7)__ Write a Python function that accepts as input the actual and predicted classifications for any binary classification data and then calculates and returns the __sensitivity__ metric for the predictions without utilizing any pre-built Python classification metric calculation functions."
   ]
  },
  {
   "cell_type": "markdown",
   "metadata": {},
   "source": [
    "Defining a function to get the sensitivity"
   ]
  },
  {
   "cell_type": "code",
   "execution_count": 11,
   "metadata": {
    "collapsed": true
   },
   "outputs": [],
   "source": [
    "def classification_sensitivity(actual_class, predicted_class):\n",
    "    \"\"\"\n",
    "    Receives 2 list/series with the actual and predicted classifications \n",
    "    for any binary classification data and returns the sensitivity metric\n",
    "    \"\"\"\n",
    "    \n",
    "    tp,tn,fp,fn = get_confusion_elements(actual_class, predicted_class)\n",
    "    \n",
    "    sensitivity = tp/(tp+fn)\n",
    "    return sensitivity"
   ]
  },
  {
   "cell_type": "code",
   "execution_count": 12,
   "metadata": {},
   "outputs": [
    {
     "name": "stdout",
     "output_type": "stream",
     "text": [
      "Sensitivity:  0.473684210526\n"
     ]
    }
   ],
   "source": [
    "sensitivity = classification_sensitivity(df['class'],df['scored.class'])\n",
    "print(\"Sensitivity: \",sensitivity)"
   ]
  },
  {
   "cell_type": "markdown",
   "metadata": {},
   "source": [
    "We achieved a sensitivity of 0.4736"
   ]
  },
  {
   "cell_type": "markdown",
   "metadata": {},
   "source": [
    "__8)__ Write a Python function that accepts as input the actual and predicted classifications for any binary classification data and then calculates and returns the __specificity__ metric for the predictions without utilizing any pre-built Python classification metric calculation functions."
   ]
  },
  {
   "cell_type": "markdown",
   "metadata": {},
   "source": [
    "Defining a function to get the specificity."
   ]
  },
  {
   "cell_type": "code",
   "execution_count": 13,
   "metadata": {
    "collapsed": true
   },
   "outputs": [],
   "source": [
    "def classification_specificity(actual_class, predicted_class):\n",
    "    \"\"\"\n",
    "    Receives 2 list/series with the actual and predicted classifications \n",
    "    for any binary classification data and returns the specificity metric\n",
    "    \"\"\"\n",
    "    \n",
    "    tp,tn,fp,fn = get_confusion_elements(actual_class, predicted_class)\n",
    "    \n",
    "    specificity = tn/(tn+fn)\n",
    "    return specificity"
   ]
  },
  {
   "cell_type": "code",
   "execution_count": 14,
   "metadata": {},
   "outputs": [
    {
     "name": "stdout",
     "output_type": "stream",
     "text": [
      "Specificity:  0.798657718121\n"
     ]
    }
   ],
   "source": [
    "specificity = classification_specificity(df['class'],df['scored.class'])\n",
    "print(\"Specificity: \",specificity)"
   ]
  },
  {
   "cell_type": "markdown",
   "metadata": {},
   "source": [
    "We achieved a specificity of 0.7986"
   ]
  },
  {
   "cell_type": "markdown",
   "metadata": {},
   "source": [
    "__9)__ Write a Python function that accepts as input the actual and predicted classifications for any binary classification data and then calculates and returns the __F1 Score__ metric for the predictions without utilizing any pre-built Python classification metric calculation functions."
   ]
  },
  {
   "cell_type": "markdown",
   "metadata": {},
   "source": [
    "Defining a function to get the F1 Score."
   ]
  },
  {
   "cell_type": "code",
   "execution_count": 15,
   "metadata": {
    "collapsed": true
   },
   "outputs": [],
   "source": [
    "def classification_f1_score(actual_class, predicted_class):\n",
    "    \"\"\"\n",
    "    Receives 2 list/series with the actual and predicted classifications \n",
    "    for any binary classification data and returns the F1 score metric\n",
    "    \"\"\"\n",
    "    \n",
    "    recall = classification_sensitivity(actual_class,predicted_class)    \n",
    "    precision = classification_precision(actual_class,predicted_class)\n",
    "\n",
    "    f1_score = (2*(recall)*(precision))/(recall+precision)\n",
    "               \n",
    "    return f1_score"
   ]
  },
  {
   "cell_type": "code",
   "execution_count": 16,
   "metadata": {},
   "outputs": [
    {
     "name": "stdout",
     "output_type": "stream",
     "text": [
      "F1 score:  0.606741573034\n"
     ]
    }
   ],
   "source": [
    "f1_score = classification_f1_score(df['class'],df['scored.class'])\n",
    "print(\"F1 score: \",f1_score)"
   ]
  },
  {
   "cell_type": "markdown",
   "metadata": {},
   "source": [
    "We got an F1 score of 0.60674"
   ]
  },
  {
   "cell_type": "markdown",
   "metadata": {},
   "source": [
    "__10)__ Write a Python function to __plot a ROC curve and also calculate AUC__ for any binary classification data that contains both actual and predicted classifications as well as the associated scored probabilities without utilizing any pre-built Python classification metric calculation or ROC or AUC functions."
   ]
  },
  {
   "cell_type": "markdown",
   "metadata": {},
   "source": [
    "To be able to plot the ROC (Receiver Operating Characteristic), we will calculate the true positive rate (TPR) (or Sensitivity) against the false positive rate (FPR)."
   ]
  },
  {
   "cell_type": "markdown",
   "metadata": {},
   "source": [
    "First we have a helper function that will define the new scored.probability based on the threshold value that it receives as a parameter."
   ]
  },
  {
   "cell_type": "code",
   "execution_count": 17,
   "metadata": {
    "collapsed": true
   },
   "outputs": [],
   "source": [
    "def predict_class(probability,thresh):\n",
    "    \n",
    "    '''\n",
    "    Creates a new column with the new prediction based on the new threshold\n",
    "    '''\n",
    "    new_df = pd.DataFrame(probability, columns=['scored.probability'])\n",
    "    \n",
    "    new_df[new_df[\"scored.probability\"] >= thresh] = 1\n",
    "    new_df[new_df[\"scored.probability\"] < thresh] = 0\n",
    "    \n",
    "    return new_df[\"scored.probability\"]"
   ]
  },
  {
   "cell_type": "markdown",
   "metadata": {},
   "source": [
    "Now we define a function that calculates and plot the ROC, with the corresponding AUC value. We defined a starting point of 0, and a specific threshold of 0.5, ending at 1. We choose this threshold to match what sklearn provides in the prebuilt function.  The user might be able to change it to any other lower value (like 0.1), we it will get a greater AUC."
   ]
  },
  {
   "cell_type": "code",
   "execution_count": 18,
   "metadata": {
    "collapsed": true
   },
   "outputs": [],
   "source": [
    "def ROC_and_AUC(actual_class, predicted_class, probability):\n",
    "    '''\n",
    "    Function that receives actual and predicted classifications as well as the associated scored probabilities\n",
    "    for any binary classification model and:\n",
    "    - Plots the ROC with the True Positive Rate (TPR) and False Positive Rate (FPR) for every threshold step.\n",
    "    - Calculate the AUC and include it in the ROC plot as a legend\n",
    "    \n",
    "    Returns TPR, FPR both as a list with the ROC coordinates and the AUC value.\n",
    "    '''\n",
    "    \n",
    "    #start threshold at zero\n",
    "    threshold = 0\n",
    "    \n",
    "    #define empty list for TPR and FPR\n",
    "    tpr_list, fpr_list = [],[]\n",
    "    \n",
    "    #iterates until threshold > 1\n",
    "    while threshold <= 1:\n",
    "        threshold = round(threshold,2)\n",
    "       \n",
    "        #call the function to get the new scored.class based on current threshold     \n",
    "        predicted_class = predict_class(probability,threshold)\n",
    "        \n",
    "        #get the set of classes predicted (can be '0', '1' or '0' and '1')\n",
    "        classes = set(predicted_class)\n",
    "        \n",
    "        #check returned classes count\n",
    "        if (len(classes) == 1):\n",
    "            \n",
    "            #has only one class predicted\n",
    "            if 1 in classes:\n",
    "                #all predicted classes were 1, set the fpr and tpr to 1\n",
    "                tpr = 1\n",
    "                fpr = 1\n",
    "                \n",
    "            else: \n",
    "                #all predicted classes were 0, set the fpr and tpr to 0\n",
    "                tpr = 0\n",
    "                fpr = 0\n",
    "                \n",
    "        else: #we have more than one class predicted, get the confusion matrix and the corresponding values\n",
    "            tpr = classification_sensitivity(actual_class, predicted_class)\n",
    "            fpr = get_fp_rate(actual_class, predicted_class)\n",
    "        \n",
    "        #append calculated tpr and fpr values to corresponding list\n",
    "        tpr_list.append(tpr)\n",
    "        fpr_list.append(fpr)\n",
    "        \n",
    "        #increase the threshold in 0.05\n",
    "        threshold += 0.5\n",
    "    \n",
    "    #call function to calculate AUC\n",
    "    auc_value = auc(fpr_list,tpr_list)\n",
    "    \n",
    "    # calculate ROC curve using fpr and tpr lists\n",
    "    plt.title('Receiver Operating Characteristic')\n",
    "    plt.plot(fpr_list, tpr_list, label=\"AUC = \"+str(round(auc_value,4)))\n",
    "    plt.legend(loc = 'lower right')\n",
    "    plt.plot([0, 1], [0, 1],'r--')\n",
    "    plt.xlim([0, 1])\n",
    "    plt.ylim([0, 1])\n",
    "    plt.ylabel('True Positive Rate')\n",
    "    plt.xlabel('False Positive Rate')\n",
    "    \n",
    "    #adding coordinate legends\n",
    "    for i_x, i_y in zip(fpr_list, tpr_list):\n",
    "        i_x = round(i_x,2)\n",
    "        i_y = round(i_y,2)\n",
    "        plt.text(i_x, i_y, '({}, {})'.format(i_x, i_y))\n",
    "    \n",
    "    \n",
    "    plt.show();\n",
    "    \n",
    "    return tpr_list, fpr_list, auc_value"
   ]
  },
  {
   "cell_type": "markdown",
   "metadata": {},
   "source": [
    "We define a function to get the false positive rate (will be in the x axis in our ROC)."
   ]
  },
  {
   "cell_type": "code",
   "execution_count": 19,
   "metadata": {
    "collapsed": true
   },
   "outputs": [],
   "source": [
    "def get_fp_rate(actual_class, predicted_class):\n",
    "    \"\"\"\n",
    "    Receives 2 list/series with the actual and predicted classifications \n",
    "    for any binary classification data and returns the sensitivity metric\n",
    "    \"\"\"\n",
    "    \n",
    "    tp,tn,fp,fn = get_confusion_elements(actual_class, predicted_class)\n",
    "    \n",
    "    \n",
    "    rate = fp/(fp+tn)\n",
    "    #FPR = FP / (FP + TN)\n",
    "    return rate"
   ]
  },
  {
   "cell_type": "markdown",
   "metadata": {},
   "source": [
    "Here we define a function a helper function to get an area of a trapezoid. [1]"
   ]
  },
  {
   "cell_type": "code",
   "execution_count": 20,
   "metadata": {
    "collapsed": true
   },
   "outputs": [],
   "source": [
    "def trapezoid_rule(x1,x2,y1,y2):\n",
    "    \"\"\"\n",
    "    Implementing the trapezoid rule = Height/2 * width\n",
    "    y: TPR.\n",
    "    x: FPR.\n",
    "    \"\"\"\n",
    "    return ((y1+y2)/2) * (x2-x1)"
   ]
  },
  {
   "cell_type": "markdown",
   "metadata": {},
   "source": [
    "Here we define a function that will calculate the AUC of the area of a small trapezoids and then add all of them up to get the total area. [1]"
   ]
  },
  {
   "cell_type": "code",
   "execution_count": 21,
   "metadata": {
    "collapsed": true
   },
   "outputs": [],
   "source": [
    "def auc(fpr,tpr):\n",
    "    n = len(fpr)\n",
    "\n",
    "    area = 0\n",
    "    for i in range(n):\n",
    "        if i == 0:\n",
    "            continue\n",
    "        subarea = trapezoid_rule(fpr[i], fpr[i-1], tpr[i], tpr[i-1])\n",
    "        area += subarea\n",
    "    return area"
   ]
  },
  {
   "cell_type": "markdown",
   "metadata": {},
   "source": [
    "We test our ROC_and_AUC function providing the class, scored.class and scored.probability."
   ]
  },
  {
   "cell_type": "code",
   "execution_count": 22,
   "metadata": {},
   "outputs": [
    {
     "data": {
      "image/png": "[encoded data removed]",
      "text/plain": [
       "<matplotlib.figure.Figure at 0x23208d9acf8>"
      ]
     },
     "metadata": {},
     "output_type": "display_data"
    }
   ],
   "source": [
    "tpr_list, fpr_list, auc = ROC_and_AUC(df['class'], df['scored.class'], df['scored.probability'])"
   ]
  },
  {
   "cell_type": "code",
   "execution_count": 23,
   "metadata": {},
   "outputs": [
    {
     "name": "stdout",
     "output_type": "stream",
     "text": [
      "AUC value is : 0.716680814941\n"
     ]
    }
   ],
   "source": [
    "print('AUC value is :', auc)"
   ]
  },
  {
   "cell_type": "markdown",
   "metadata": {},
   "source": [
    "In order to get the AUC we calculated small trapezoidal areas (with the helper function) and the sum them all together to get the full area. <br>\n",
    "We see the 45° red doted line which shows a random model but we have better performance as our AUC is greater than 0.5. In addition we added coordinates as a reference for the reader."
   ]
  },
  {
   "cell_type": "markdown",
   "metadata": {},
   "source": [
    "__11)__ Apply the Python functions you’ve created to the relevant columns of the provided data set to produce\n",
    "the classification metrics specified in steps 5 through 9 of this assignment."
   ]
  },
  {
   "cell_type": "markdown",
   "metadata": {},
   "source": [
    "We test each of the functions we created from task 5 to task 9 and print the corresponding results."
   ]
  },
  {
   "cell_type": "code",
   "execution_count": 24,
   "metadata": {},
   "outputs": [
    {
     "name": "stdout",
     "output_type": "stream",
     "text": [
      "Accuracy:     0.806629834254\n",
      "Precision:    0.84375\n",
      "Sensitivity:  0.473684210526\n",
      "Specificity:  0.798657718121\n",
      "F1 score:     0.606741573034\n"
     ]
    }
   ],
   "source": [
    "#task 5: accuracy\n",
    "accuracy = get_classification_accuracy(df['class'],df['scored.class'])\n",
    "print(\"Accuracy:    \",accuracy)\n",
    "\n",
    "#task 6: precision\n",
    "precision = classification_precision(df['class'],df['scored.class'])\n",
    "print(\"Precision:   \",precision)\n",
    "\n",
    "#task 7: sensitivity\n",
    "sensitivity = classification_sensitivity(df['class'],df['scored.class'])\n",
    "print(\"Sensitivity: \",sensitivity)\n",
    "\n",
    "#task 8: specificity\n",
    "specificity = classification_specificity(df['class'],df['scored.class'])\n",
    "print(\"Specificity: \",specificity)\n",
    "\n",
    "#task 9: f1_score\n",
    "f1_score = classification_f1_score(df['class'],df['scored.class'])\n",
    "print(\"F1 score:    \",f1_score)"
   ]
  },
  {
   "cell_type": "markdown",
   "metadata": {},
   "source": [
    "We see each of the model metrics one after the other."
   ]
  },
  {
   "cell_type": "markdown",
   "metadata": {},
   "source": [
    "__12)__ Now compare the output of your functions against the output of the pre-built functions available within the __scikit-learn__ library. Specifically, apply the __confusion_matrix(), accuracy_score(), precision_score(), recall_score()__ (remember: recall = sensitivity), __f1_score()__, and the __metrics.classification_report()__ functions to the relevant columns of the provided data set. Discuss how well the results of these pre-built functions compare to those of the functions you’ve created for this assignment."
   ]
  },
  {
   "cell_type": "markdown",
   "metadata": {},
   "source": [
    "We import the metrics library from sklearn and use each of the prebuilt functions to get the values."
   ]
  },
  {
   "cell_type": "code",
   "execution_count": 25,
   "metadata": {},
   "outputs": [
    {
     "data": {
      "text/plain": [
       "array([[119,   5],\n",
       "       [ 30,  27]], dtype=int64)"
      ]
     },
     "execution_count": 25,
     "metadata": {},
     "output_type": "execute_result"
    }
   ],
   "source": [
    "import sklearn.metrics as metrics\n",
    "metrics.confusion_matrix(df['class'],df['scored.class'])"
   ]
  },
  {
   "cell_type": "markdown",
   "metadata": {},
   "source": [
    "We see the confusion matrix that matches the one we got from pd.crosstab."
   ]
  },
  {
   "cell_type": "code",
   "execution_count": 26,
   "metadata": {},
   "outputs": [
    {
     "name": "stdout",
     "output_type": "stream",
     "text": [
      "Accuracy:   0.806629834254\n",
      "Precision:  0.84375\n",
      "Recall:     0.473684210526\n",
      "F1 Score:   0.606741573034\n"
     ]
    }
   ],
   "source": [
    "print(\"Accuracy:  \",metrics.accuracy_score(df['class'],df['scored.class']))\n",
    "print(\"Precision: \",metrics.precision_score(df['class'],df['scored.class']))\n",
    "print(\"Recall:    \",metrics.recall_score(df['class'],df['scored.class']))\n",
    "print(\"F1 Score:  \",metrics.f1_score(df['class'],df['scored.class']))"
   ]
  },
  {
   "cell_type": "markdown",
   "metadata": {},
   "source": [
    "Our metric with the functions we created matches the ones with the sklearn prebuilt."
   ]
  },
  {
   "cell_type": "code",
   "execution_count": 27,
   "metadata": {},
   "outputs": [
    {
     "name": "stdout",
     "output_type": "stream",
     "text": [
      "             precision    recall  f1-score   support\n",
      "\n",
      "          0       0.80      0.96      0.87       124\n",
      "          1       0.84      0.47      0.61        57\n",
      "\n",
      "avg / total       0.81      0.81      0.79       181\n",
      "\n"
     ]
    }
   ],
   "source": [
    "print(metrics.classification_report(df['class'],df['scored.class']))"
   ]
  },
  {
   "cell_type": "markdown",
   "metadata": {},
   "source": [
    "__13)__ Using the __metrics.plot_roc_curve ()__ and __metrics.auc()__ functions from the scikit-learn package to generate a ROC plot and calculate AUC for the provided data set. How do the results compare with the ROC/AUC function you’ve created for this assignment?"
   ]
  },
  {
   "cell_type": "markdown",
   "metadata": {},
   "source": [
    "The following code uses the prebuilt roc_curve that receives the class and scored.class as a parameter and plots the ROC with its own logic. We added the coordinates as a reference."
   ]
  },
  {
   "cell_type": "code",
   "execution_count": 28,
   "metadata": {},
   "outputs": [],
   "source": [
    "fpr, tpr, thresholds = metrics.roc_curve(df['class'], df['scored.class'])\n",
    "plt.plot(fpr,tpr)\n",
    "\n",
    "plt.xlim([0.0, 1.0])\n",
    "plt.ylim([0.0, 1.0])\n",
    "plt.title('ROC classifier')\n",
    "plt.xlabel('False positive rate (1-Specificity)')\n",
    "plt.ylabel('True positive rate (Sensitivity)')\n",
    "\n",
    "#adding coordinate legends\n",
    "for i_x, i_y in zip(fpr, tpr):\n",
    "    i_x = round(i_x,2)\n",
    "    i_y = round(i_y,2)\n",
    "    plt.text(i_x, i_y, '({}, {})'.format(i_x, i_y))\n",
    "        \n",
    "        \n",
    "plt.grid(True)"
   ]
  },
  {
   "cell_type": "markdown",
   "metadata": {},
   "source": [
    "We can see that the ROC from sklearn matches our ROC from previous task."
   ]
  },
  {
   "cell_type": "markdown",
   "metadata": {},
   "source": [
    "We print the 3 points that sklearn returns."
   ]
  },
  {
   "cell_type": "code",
   "execution_count": 29,
   "metadata": {},
   "outputs": [
    {
     "data": {
      "text/plain": [
       "(array([ 0.        ,  0.47368421,  1.        ]),\n",
       " array([ 0.        ,  0.04032258,  1.        ]))"
      ]
     },
     "execution_count": 29,
     "metadata": {},
     "output_type": "execute_result"
    }
   ],
   "source": [
    "tpr, fpr"
   ]
  },
  {
   "cell_type": "markdown",
   "metadata": {},
   "source": [
    "We check the AUC value"
   ]
  },
  {
   "cell_type": "code",
   "execution_count": 30,
   "metadata": {},
   "outputs": [
    {
     "data": {
      "text/plain": [
       "0.71668081494057723"
      ]
     },
     "execution_count": 30,
     "metadata": {},
     "output_type": "execute_result"
    }
   ],
   "source": [
    "metrics.auc(fpr, tpr)"
   ]
  },
  {
   "cell_type": "markdown",
   "metadata": {},
   "source": [
    "We can see that the AUC value of 0.7166 matches the one we got from our function."
   ]
  },
  {
   "cell_type": "markdown",
   "metadata": {},
   "source": [
    "### References\n",
    "[1]https://en.wikipedia.org/wiki/Trapezoidal_rule#:~:text=In%20mathematics%2C%20and%20more%20specifically,for%20approximating%20the%20definite%20integral.\n"
   ]
  },
  {
   "cell_type": "markdown",
   "metadata": {},
   "source": [
    "## Conclusion"
   ]
  },
  {
   "cell_type": "markdown",
   "metadata": {},
   "source": [
    "- We can see that the model we created, as well as the one created by sklearn, shows a higher AUC than a random model, which means it is better than a random model. \n",
    "- The different functions that we created matches the results provided by the prebuilt functions, but this allowed us to understand how classification metrics are calculated.\n",
    "- The different metric values show the specific weight to each metric, with the higher one as precision: 0.84375, which means which percentage of the values that were predictive as true were actually true."
   ]
  }
 ],
 "metadata": {
  "kernelspec": {
   "display_name": "Python 3",
   "language": "python",
   "name": "python3"
  },
  "language_info": {
   "codemirror_mode": {
    "name": "ipython",
    "version": 3
   },
   "file_extension": ".py",
   "mimetype": "text/x-python",
   "name": "python",
   "nbconvert_exporter": "python",
   "pygments_lexer": "ipython3",
   "version": "3.6.2"
  }
 },
 "nbformat": 4,
 "nbformat_minor": 2
}
