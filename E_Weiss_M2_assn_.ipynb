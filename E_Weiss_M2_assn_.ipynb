{
 "cells": [
  {
   "cell_type": "markdown",
   "metadata": {},
   "source": [
    "# M2 Assignment \n",
    "### By Eli Weiss"
   ]
  },
  {
   "cell_type": "markdown",
   "metadata": {},
   "source": [
    "Link to the video portion of this assignment can be found here:\n",
    "http://somup.com/cY1VeFjSes"
   ]
  },
  {
   "cell_type": "markdown",
   "metadata": {},
   "source": [
    "#### Project Goal:\n",
    "In this project we will try to predict how much electricity a power plant will produce. <br/>\n",
    "This is important because knowing the amount of power that is necessary for<br/> warmer or more humid days will\n",
    "allow the plant workers to prepare for increased <br/>demand and avoid outages.\n",
    "\n",
    "#### Methodology:\n",
    "We will first explore descriptive statistics of the dependent and<br/> independent variables. \n",
    "After the EDA section we will be employing linear <br/>regression as the predictive model and we will be using \n",
    "K-fold cross <br/>validation to lower sampling noise."
   ]
  },
  {
   "cell_type": "markdown",
   "metadata": {},
   "source": [
    "## Part I: Data Preparation"
   ]
  },
  {
   "cell_type": "code",
   "execution_count": 1,
   "metadata": {
    "scrolled": true
   },
   "outputs": [
    {
     "data": {
      "text/html": [
       "<div>\n",
       "<style>\n",
       "    .dataframe thead tr:only-child th {\n",
       "        text-align: right;\n",
       "    }\n",
       "\n",
       "    .dataframe thead th {\n",
       "        text-align: left;\n",
       "    }\n",
       "\n",
       "    .dataframe tbody tr th {\n",
       "        vertical-align: top;\n",
       "    }\n",
       "</style>\n",
       "<table border=\"1\" class=\"dataframe\">\n",
       "  <thead>\n",
       "    <tr style=\"text-align: right;\">\n",
       "      <th></th>\n",
       "      <th>T</th>\n",
       "      <th>V</th>\n",
       "      <th>AP</th>\n",
       "      <th>RH</th>\n",
       "      <th>EP</th>\n",
       "    </tr>\n",
       "  </thead>\n",
       "  <tbody>\n",
       "    <tr>\n",
       "      <th>0</th>\n",
       "      <td>14.96</td>\n",
       "      <td>41.76</td>\n",
       "      <td>1024.07</td>\n",
       "      <td>73.17</td>\n",
       "      <td>463.26</td>\n",
       "    </tr>\n",
       "    <tr>\n",
       "      <th>1</th>\n",
       "      <td>25.18</td>\n",
       "      <td>62.96</td>\n",
       "      <td>1020.04</td>\n",
       "      <td>59.08</td>\n",
       "      <td>444.37</td>\n",
       "    </tr>\n",
       "    <tr>\n",
       "      <th>2</th>\n",
       "      <td>5.11</td>\n",
       "      <td>39.40</td>\n",
       "      <td>1012.16</td>\n",
       "      <td>92.14</td>\n",
       "      <td>488.56</td>\n",
       "    </tr>\n",
       "    <tr>\n",
       "      <th>3</th>\n",
       "      <td>20.86</td>\n",
       "      <td>57.32</td>\n",
       "      <td>1010.24</td>\n",
       "      <td>76.64</td>\n",
       "      <td>446.48</td>\n",
       "    </tr>\n",
       "    <tr>\n",
       "      <th>4</th>\n",
       "      <td>10.82</td>\n",
       "      <td>37.50</td>\n",
       "      <td>1009.23</td>\n",
       "      <td>96.62</td>\n",
       "      <td>473.90</td>\n",
       "    </tr>\n",
       "  </tbody>\n",
       "</table>\n",
       "</div>"
      ],
      "text/plain": [
       "       T      V       AP     RH      EP\n",
       "0  14.96  41.76  1024.07  73.17  463.26\n",
       "1  25.18  62.96  1020.04  59.08  444.37\n",
       "2   5.11  39.40  1012.16  92.14  488.56\n",
       "3  20.86  57.32  1010.24  76.64  446.48\n",
       "4  10.82  37.50  1009.23  96.62  473.90"
      ]
     },
     "execution_count": 1,
     "metadata": {},
     "output_type": "execute_result"
    }
   ],
   "source": [
    "# load the pandas library\n",
    "import pandas as pd\n",
    "\n",
    "# load the train_test_split function from the sklearn.model_selection module\n",
    "from sklearn.model_selection import train_test_split\n",
    "\n",
    "# \"The dataset contains 9568 data points collected from a Combined Cycle Power Plant over 6 years (2006-2011)\n",
    "#  when the power plant was set to work with full load. Features consist of hourly average ambient variables \n",
    "#  Temperature (T), Ambient Pressure (AP), Relative Humidity (RH) and Exhaust Vacuum (V) \n",
    "#  to predict the net hourly electrical energy output (EP) of the plant.\"\n",
    "# for more information on the data please visit https://archive.ics.uci.edu/ml/datasets/Combined+Cycle+Power+Plant\n",
    "\n",
    "filename = \"https://raw.githubusercontent.com/enwweiss/DAV-6150/master/M2_Data.csv\"\n",
    "df = pd.read_csv(filename)\n",
    "df.head()"
   ]
  },
  {
   "cell_type": "markdown",
   "metadata": {},
   "source": [
    "## Part II: EDA"
   ]
  },
  {
   "cell_type": "markdown",
   "metadata": {},
   "source": [
    "#### Check the size of the data"
   ]
  },
  {
   "cell_type": "code",
   "execution_count": 8,
   "metadata": {
    "scrolled": true
   },
   "outputs": [
    {
     "data": {
      "text/plain": [
       "9568"
      ]
     },
     "execution_count": 8,
     "metadata": {},
     "output_type": "execute_result"
    }
   ],
   "source": [
    "# how many observations are contained within the example data set?\n",
    "len(df)"
   ]
  },
  {
   "cell_type": "markdown",
   "metadata": {},
   "source": [
    "#### Check for missing data "
   ]
  },
  {
   "cell_type": "code",
   "execution_count": 21,
   "metadata": {},
   "outputs": [
    {
     "data": {
      "text/plain": [
       "0"
      ]
     },
     "execution_count": 21,
     "metadata": {},
     "output_type": "execute_result"
    }
   ],
   "source": [
    "# check for missing values in EP (Net hourly electrical energy output)\n",
    "df['EP'].isnull().sum()"
   ]
  },
  {
   "cell_type": "code",
   "execution_count": 22,
   "metadata": {},
   "outputs": [
    {
     "data": {
      "text/plain": [
       "0"
      ]
     },
     "execution_count": 22,
     "metadata": {},
     "output_type": "execute_result"
    }
   ],
   "source": [
    "# check for missing values in T (Temperature) \n",
    "df['T'].isnull().sum()"
   ]
  },
  {
   "cell_type": "code",
   "execution_count": 23,
   "metadata": {},
   "outputs": [
    {
     "data": {
      "text/plain": [
       "0"
      ]
     },
     "execution_count": 23,
     "metadata": {},
     "output_type": "execute_result"
    }
   ],
   "source": [
    "# check for missing values in V (Exhaust Vacuum)\n",
    "df['V'].isnull().sum()"
   ]
  },
  {
   "cell_type": "code",
   "execution_count": 24,
   "metadata": {},
   "outputs": [
    {
     "data": {
      "text/plain": [
       "0"
      ]
     },
     "execution_count": 24,
     "metadata": {},
     "output_type": "execute_result"
    }
   ],
   "source": [
    "# check for missing values in AP (Ambient Pressure)\n",
    "df['AP'].isnull().sum()"
   ]
  },
  {
   "cell_type": "code",
   "execution_count": 25,
   "metadata": {},
   "outputs": [
    {
     "data": {
      "text/plain": [
       "0"
      ]
     },
     "execution_count": 25,
     "metadata": {},
     "output_type": "execute_result"
    }
   ],
   "source": [
    "# check for missing values in RH (Relative Humidity)\n",
    "df['RH'].isnull().sum()"
   ]
  },
  {
   "cell_type": "markdown",
   "metadata": {},
   "source": [
    "#### Statistical EDA "
   ]
  },
  {
   "cell_type": "code",
   "execution_count": 39,
   "metadata": {},
   "outputs": [
    {
     "data": {
      "image/png": "[encoded data removed]",
      "text/plain": [
       "<matplotlib.figure.Figure at 0x21546aef1d0>"
      ]
     },
     "metadata": {},
     "output_type": "display_data"
    },
    {
     "name": "stdout",
     "output_type": "stream",
     "text": [
      "mean of EP is  454.365009406\n",
      "mean of T is  19.6512311873\n"
     ]
    }
   ],
   "source": [
    "plt.figure(1)\n",
    "plt.subplot(121)\n",
    "sns.boxplot( y=df[\"EP\"] );\n",
    "plt.title('Net hourly electrical energy output')\n",
    "plt.subplot(122)\n",
    "sns.boxplot( y=df[\"T\"] );\n",
    "plt.title('Temperature')\n",
    "plt.xlabel('')\n",
    "\n",
    "plt.show()\n",
    "import statistics as stats\n",
    "print('mean of EP is ',stats.mean(df['EP']))\n",
    "print('mean of T is ',stats.mean(df['T']))"
   ]
  },
  {
   "cell_type": "markdown",
   "metadata": {},
   "source": [
    "the IQR for Net hourly electrical energy output is ~ 440-470\n",
    "the IQR for Temperature is ~ 13-26<br/>\n",
    "median value for Net hourly electrical energy output is ~ 454\n",
    "median value for Temperature is ~ 20\n",
    "\n"
   ]
  },
  {
   "cell_type": "code",
   "execution_count": 40,
   "metadata": {
    "scrolled": true
   },
   "outputs": [
    {
     "data": {
      "image/png": "[encoded data removed]",
      "text/plain": [
       "<matplotlib.figure.Figure at 0x2154684a978>"
      ]
     },
     "metadata": {},
     "output_type": "display_data"
    },
    {
     "name": "stdout",
     "output_type": "stream",
     "text": [
      "mean of V is  54.3058037207\n"
     ]
    }
   ],
   "source": [
    "plt.figure(1)\n",
    "plt.subplot(121)\n",
    "sns.boxplot( y=df[\"EP\"] );\n",
    "plt.title('Net hourly electrical energy output')\n",
    "plt.subplot(122)\n",
    "sns.boxplot( y=df[\"V\"] );\n",
    "plt.title('Exhaust Vacuum')\n",
    "plt.xlabel('')\n",
    "\n",
    "plt.show()\n",
    "print('mean of V is ',stats.mean(df['V']))"
   ]
  },
  {
   "cell_type": "markdown",
   "metadata": {},
   "source": [
    "the IQR for Net hourly electrical energy output is ~ 440-470\n",
    "the IQR for Exhaust Vacuum is ~ 42-68<br/>\n",
    "median value for Net hourly electrical energy output is ~ 454\n",
    "median value for Exhaust Vacuum is ~ 54\n",
    "\n"
   ]
  },
  {
   "cell_type": "code",
   "execution_count": 44,
   "metadata": {
    "scrolled": true
   },
   "outputs": [
    {
     "data": {
      "image/png": "[encoded data removed]",
      "text/plain": [
       "<matplotlib.figure.Figure at 0x21546eb5e48>"
      ]
     },
     "metadata": {},
     "output_type": "display_data"
    },
    {
     "name": "stdout",
     "output_type": "stream",
     "text": [
      "mean of AP is  1013.25907818\n"
     ]
    }
   ],
   "source": [
    "plt.figure(1)\n",
    "plt.subplot(121)\n",
    "sns.boxplot( y=df[\"EP\"] );\n",
    "plt.title('Net hourly electrical energy output')\n",
    "plt.subplot(122)\n",
    "sns.boxplot( y=df[\"AP\"] );\n",
    "plt.title('Ambient Pressure')\n",
    "plt.xlabel('')\n",
    "\n",
    "plt.show()\n",
    "print('mean of AP is ',stats.mean(df['AP']))"
   ]
  },
  {
   "cell_type": "markdown",
   "metadata": {},
   "source": [
    "the IQR for Net hourly electrical energy output is ~ 440-470\n",
    "the IQR for Ambient Pressure is ~ 1009-1017<br/>\n",
    "median value for Net hourly electrical energy output is ~ 454\n",
    "median value for Ambient Pressure is ~ 1013<br/>\n",
    "Note: there are outliers which may need to be removed or controlled for which may be affecting the mean for AP"
   ]
  },
  {
   "cell_type": "code",
   "execution_count": 46,
   "metadata": {},
   "outputs": [
    {
     "data": {
      "image/png": "[encoded data removed]",
      "text/plain": [
       "<matplotlib.figure.Figure at 0x21546accef0>"
      ]
     },
     "metadata": {},
     "output_type": "display_data"
    },
    {
     "name": "stdout",
     "output_type": "stream",
     "text": [
      "mean of Relative Humidity is  73.3089778428\n"
     ]
    }
   ],
   "source": [
    "plt.figure(1)\n",
    "plt.subplot(121)\n",
    "sns.boxplot( y=df[\"EP\"] );\n",
    "plt.title('Net hourly electrical energy output')\n",
    "plt.subplot(122)\n",
    "sns.boxplot( y=df[\"RH\"] );\n",
    "plt.title('Relative Humidity')\n",
    "plt.xlabel('')\n",
    "\n",
    "plt.show()\n",
    "print('mean of Relative Humidity is ',stats.mean(df['RH']))"
   ]
  },
  {
   "cell_type": "markdown",
   "metadata": {},
   "source": [
    "the IQR for Net hourly electrical energy output is ~ 440-470\n",
    "the IQR for Ambient Pressure is ~ 65-85\n",
    "<br/>median value for Net hourly electrical energy output is ~ 454\n",
    "median value for Ambient Pressure is ~ 73<br/>\n",
    "Note: there are outliers which may need to be removed or controlled for which may be affecting the mean for RH\n",
    "Additionally RH looks  like it is not mormally distributed from this chart we will explore this later in our EDA."
   ]
  },
  {
   "cell_type": "code",
   "execution_count": 32,
   "metadata": {},
   "outputs": [
    {
     "data": {
      "image/png": "[encoded data removed]",
      "text/plain": [
       "<matplotlib.figure.Figure at 0x21545cb7438>"
      ]
     },
     "metadata": {},
     "output_type": "display_data"
    }
   ],
   "source": [
    "x = df['T']\n",
    "y = df['EP']\n",
    "plt.xlabel('Temperature')\n",
    "plt.ylabel('Net hourly electrical energy output')\n",
    "\n",
    "\n",
    "plt.plot(x, y, 'o', color='black');\n",
    "plt.show()"
   ]
  },
  {
   "cell_type": "markdown",
   "metadata": {},
   "source": [
    "Temperature has a high linear relationship with Net hourly electrical energy output<br/>\n",
    "We expect that Net hourly electrical energy output will be have significance and highly predictive."
   ]
  },
  {
   "cell_type": "code",
   "execution_count": 31,
   "metadata": {},
   "outputs": [
    {
     "data": {
      "image/png": "[encoded data removed]",
      "text/plain": [
       "<matplotlib.figure.Figure at 0x21545f19400>"
      ]
     },
     "metadata": {},
     "output_type": "display_data"
    }
   ],
   "source": [
    "x = df['V']\n",
    "y = df['EP']\n",
    "\n",
    "plt.xlabel('Exhaust Vacuum')\n",
    "plt.ylabel('Net hourly electrical energy output')\n",
    "\n",
    "plt.plot(x, y, 'o', color='black');\n",
    "plt.show()"
   ]
  },
  {
   "cell_type": "markdown",
   "metadata": {},
   "source": [
    "Exhaust Vacuum has a somewhat linear relationship with Net hourly electrical energy output<br/>\n",
    "We expect that Exhaust Vacuum will be have significance and be somewhat predictive."
   ]
  },
  {
   "cell_type": "code",
   "execution_count": 29,
   "metadata": {},
   "outputs": [
    {
     "data": {
      "image/png": "[encoded data removed]",
      "text/plain": [
       "<matplotlib.figure.Figure at 0x21546ebffd0>"
      ]
     },
     "metadata": {},
     "output_type": "display_data"
    }
   ],
   "source": [
    "x = df['AP']\n",
    "y = df['EP']\n",
    "\n",
    "plt.xlabel('Ambient Pressure')\n",
    "plt.ylabel('Net hourly electrical energy output')\n",
    "\n",
    "plt.plot(x, y, 'o', color='black');\n",
    "plt.show()"
   ]
  },
  {
   "cell_type": "markdown",
   "metadata": {},
   "source": [
    "Ambient Pressure does not have a linear relationship with Net hourly electrical energy output<br/>\n",
    "We expect that Ambient Pressure will be not be \"significant\" and will not be \"predictive.\"<br/>\n",
    "Even if this shows a pvalue that is significant it should not be included in the model<br/>\n",
    "since the relationship between these two variables is not linear.<br/>\n",
    "Any inferences learned from this predictor would be misleading. "
   ]
  },
  {
   "cell_type": "code",
   "execution_count": 47,
   "metadata": {},
   "outputs": [
    {
     "data": {
      "image/png": "[encoded data removed]",
      "text/plain": [
       "<matplotlib.figure.Figure at 0x215469ec9b0>"
      ]
     },
     "metadata": {},
     "output_type": "display_data"
    }
   ],
   "source": [
    "x = df['RH']\n",
    "y = df['EP']\n",
    "\n",
    "plt.xlabel('Relative Humidity')\n",
    "plt.ylabel('Net hourly electrical energy output')\n",
    "\n",
    "plt.plot(x, y, 'o', color='black');\n",
    "plt.show()"
   ]
  },
  {
   "cell_type": "markdown",
   "metadata": {},
   "source": [
    "Relative Humidity does not have a linear relationship with Net hourly electrical energy output<br/>\n",
    "We expect that Relative Humidity will be \"significant\" and will be \"predictive.\"<br/>\n",
    "However, we should be concerned that this data shows a fan pattern as this repesents non-constant variance.<br/>\n",
    "Even though this will show a pvalue that is significant it should not be included in the model<br/>\n",
    "since the relationship between these two variables is not linear and it has non-constant variance.<br/>\n",
    "Any inferences learned from this predictor would be misleading. "
   ]
  },
  {
   "cell_type": "markdown",
   "metadata": {},
   "source": [
    "## Part III: Statistical Learning"
   ]
  },
  {
   "cell_type": "markdown",
   "metadata": {},
   "source": [
    "Now that we have explored our data we are ready to build predictive models.<br/>\n",
    "We are going to build two models. The first model will include the predictors<br/>\n",
    "RH and AP and should give the model higher \"predictive\" power. However this is <br/>\n",
    "misleading, so we will fit another model without these two variables. It should receive <br/>\n",
    "a lower score, but will be a more accurate at assesing the predictive power \n",
    "of the model. \n",
    "<br/>\n",
    "\n",
    "We will also explore to see if RH and AP have significant p-values even though they<br/>\n",
    "violate some of the underlying assumptions of linear regression."
   ]
  },
  {
   "cell_type": "markdown",
   "metadata": {},
   "source": [
    "#### Model 1: Full Model"
   ]
  },
  {
   "cell_type": "markdown",
   "metadata": {},
   "source": [
    "First we will fit a model using all of the columns "
   ]
  },
  {
   "cell_type": "code",
   "execution_count": 43,
   "metadata": {
    "collapsed": true
   },
   "outputs": [],
   "source": [
    "# move the response variable to a separate variable\n",
    "y = df.EP"
   ]
  },
  {
   "cell_type": "code",
   "execution_count": 44,
   "metadata": {
    "collapsed": true
   },
   "outputs": [],
   "source": [
    "# make a copy of the dataframe\n",
    "X = df.copy()"
   ]
  },
  {
   "cell_type": "code",
   "execution_count": 45,
   "metadata": {
    "collapsed": true
   },
   "outputs": [],
   "source": [
    "# now drop the EP column from 'X' so that the response variable is removed from the explanatory variables\n",
    "X.drop('EP', axis=1, inplace=True)"
   ]
  },
  {
   "cell_type": "code",
   "execution_count": 46,
   "metadata": {},
   "outputs": [
    {
     "data": {
      "text/html": [
       "<div>\n",
       "<style>\n",
       "    .dataframe thead tr:only-child th {\n",
       "        text-align: right;\n",
       "    }\n",
       "\n",
       "    .dataframe thead th {\n",
       "        text-align: left;\n",
       "    }\n",
       "\n",
       "    .dataframe tbody tr th {\n",
       "        vertical-align: top;\n",
       "    }\n",
       "</style>\n",
       "<table border=\"1\" class=\"dataframe\">\n",
       "  <thead>\n",
       "    <tr style=\"text-align: right;\">\n",
       "      <th></th>\n",
       "      <th>T</th>\n",
       "      <th>V</th>\n",
       "      <th>AP</th>\n",
       "      <th>RH</th>\n",
       "    </tr>\n",
       "  </thead>\n",
       "  <tbody>\n",
       "    <tr>\n",
       "      <th>0</th>\n",
       "      <td>14.96</td>\n",
       "      <td>41.76</td>\n",
       "      <td>1024.07</td>\n",
       "      <td>73.17</td>\n",
       "    </tr>\n",
       "    <tr>\n",
       "      <th>1</th>\n",
       "      <td>25.18</td>\n",
       "      <td>62.96</td>\n",
       "      <td>1020.04</td>\n",
       "      <td>59.08</td>\n",
       "    </tr>\n",
       "    <tr>\n",
       "      <th>2</th>\n",
       "      <td>5.11</td>\n",
       "      <td>39.40</td>\n",
       "      <td>1012.16</td>\n",
       "      <td>92.14</td>\n",
       "    </tr>\n",
       "    <tr>\n",
       "      <th>3</th>\n",
       "      <td>20.86</td>\n",
       "      <td>57.32</td>\n",
       "      <td>1010.24</td>\n",
       "      <td>76.64</td>\n",
       "    </tr>\n",
       "    <tr>\n",
       "      <th>4</th>\n",
       "      <td>10.82</td>\n",
       "      <td>37.50</td>\n",
       "      <td>1009.23</td>\n",
       "      <td>96.62</td>\n",
       "    </tr>\n",
       "  </tbody>\n",
       "</table>\n",
       "</div>"
      ],
      "text/plain": [
       "       T      V       AP     RH\n",
       "0  14.96  41.76  1024.07  73.17\n",
       "1  25.18  62.96  1020.04  59.08\n",
       "2   5.11  39.40  1012.16  92.14\n",
       "3  20.86  57.32  1010.24  76.64\n",
       "4  10.82  37.50  1009.23  96.62"
      ]
     },
     "execution_count": 46,
     "metadata": {},
     "output_type": "execute_result"
    }
   ],
   "source": [
    "# The EP column has been removed\n",
    "X.head()"
   ]
  },
  {
   "cell_type": "code",
   "execution_count": 47,
   "metadata": {
    "collapsed": true
   },
   "outputs": [],
   "source": [
    "# Now split the data into training and testing subsets. \n",
    "# We'll set aside 40% of the data for testing purposes\n",
    "X_train, X_test, y_train, y_test = train_test_split(X, y, test_size=0.4, random_state=10)"
   ]
  },
  {
   "cell_type": "code",
   "execution_count": 48,
   "metadata": {},
   "outputs": [
    {
     "data": {
      "text/plain": [
       "5740"
      ]
     },
     "execution_count": 48,
     "metadata": {},
     "output_type": "execute_result"
    }
   ],
   "source": [
    "# Let's check the results\n",
    "len(X_train)"
   ]
  },
  {
   "cell_type": "code",
   "execution_count": 49,
   "metadata": {},
   "outputs": [
    {
     "data": {
      "text/plain": [
       "3828"
      ]
     },
     "execution_count": 49,
     "metadata": {},
     "output_type": "execute_result"
    }
   ],
   "source": [
    "len(X_test)"
   ]
  },
  {
   "cell_type": "code",
   "execution_count": 30,
   "metadata": {},
   "outputs": [
    {
     "data": {
      "text/plain": [
       "5925    456.57\n",
       "4294    438.70\n",
       "7120    436.09\n",
       "6688    468.09\n",
       "7322    443.66\n",
       "Name: EP, dtype: float64"
      ]
     },
     "execution_count": 30,
     "metadata": {},
     "output_type": "execute_result"
    }
   ],
   "source": [
    "# Let's check the row indices of the new objects to see whether they match\n",
    "y_test.head()"
   ]
  },
  {
   "cell_type": "code",
   "execution_count": 31,
   "metadata": {},
   "outputs": [
    {
     "data": {
      "text/html": [
       "<div>\n",
       "<style>\n",
       "    .dataframe thead tr:only-child th {\n",
       "        text-align: right;\n",
       "    }\n",
       "\n",
       "    .dataframe thead th {\n",
       "        text-align: left;\n",
       "    }\n",
       "\n",
       "    .dataframe tbody tr th {\n",
       "        vertical-align: top;\n",
       "    }\n",
       "</style>\n",
       "<table border=\"1\" class=\"dataframe\">\n",
       "  <thead>\n",
       "    <tr style=\"text-align: right;\">\n",
       "      <th></th>\n",
       "      <th>T</th>\n",
       "      <th>V</th>\n",
       "      <th>AP</th>\n",
       "      <th>RH</th>\n",
       "    </tr>\n",
       "  </thead>\n",
       "  <tbody>\n",
       "    <tr>\n",
       "      <th>5925</th>\n",
       "      <td>19.60</td>\n",
       "      <td>48.14</td>\n",
       "      <td>1013.18</td>\n",
       "      <td>68.71</td>\n",
       "    </tr>\n",
       "    <tr>\n",
       "      <th>4294</th>\n",
       "      <td>21.28</td>\n",
       "      <td>70.32</td>\n",
       "      <td>1011.55</td>\n",
       "      <td>88.05</td>\n",
       "    </tr>\n",
       "    <tr>\n",
       "      <th>7120</th>\n",
       "      <td>28.62</td>\n",
       "      <td>59.14</td>\n",
       "      <td>1016.36</td>\n",
       "      <td>53.10</td>\n",
       "    </tr>\n",
       "    <tr>\n",
       "      <th>6688</th>\n",
       "      <td>11.02</td>\n",
       "      <td>40.00</td>\n",
       "      <td>1015.75</td>\n",
       "      <td>74.83</td>\n",
       "    </tr>\n",
       "    <tr>\n",
       "      <th>7322</th>\n",
       "      <td>23.02</td>\n",
       "      <td>63.47</td>\n",
       "      <td>1012.21</td>\n",
       "      <td>80.61</td>\n",
       "    </tr>\n",
       "  </tbody>\n",
       "</table>\n",
       "</div>"
      ],
      "text/plain": [
       "          T      V       AP     RH\n",
       "5925  19.60  48.14  1013.18  68.71\n",
       "4294  21.28  70.32  1011.55  88.05\n",
       "7120  28.62  59.14  1016.36  53.10\n",
       "6688  11.02  40.00  1015.75  74.83\n",
       "7322  23.02  63.47  1012.21  80.61"
      ]
     },
     "execution_count": 31,
     "metadata": {},
     "output_type": "execute_result"
    }
   ],
   "source": [
    "X_test.head()"
   ]
  },
  {
   "cell_type": "code",
   "execution_count": 32,
   "metadata": {},
   "outputs": [
    {
     "data": {
      "text/html": [
       "<div>\n",
       "<style>\n",
       "    .dataframe thead tr:only-child th {\n",
       "        text-align: right;\n",
       "    }\n",
       "\n",
       "    .dataframe thead th {\n",
       "        text-align: left;\n",
       "    }\n",
       "\n",
       "    .dataframe tbody tr th {\n",
       "        vertical-align: top;\n",
       "    }\n",
       "</style>\n",
       "<table border=\"1\" class=\"dataframe\">\n",
       "  <thead>\n",
       "    <tr style=\"text-align: right;\">\n",
       "      <th></th>\n",
       "      <th>T</th>\n",
       "      <th>V</th>\n",
       "      <th>AP</th>\n",
       "      <th>RH</th>\n",
       "    </tr>\n",
       "  </thead>\n",
       "  <tbody>\n",
       "    <tr>\n",
       "      <th>15</th>\n",
       "      <td>21.42</td>\n",
       "      <td>43.79</td>\n",
       "      <td>1015.76</td>\n",
       "      <td>43.08</td>\n",
       "    </tr>\n",
       "    <tr>\n",
       "      <th>2230</th>\n",
       "      <td>11.95</td>\n",
       "      <td>41.48</td>\n",
       "      <td>1013.44</td>\n",
       "      <td>74.83</td>\n",
       "    </tr>\n",
       "    <tr>\n",
       "      <th>4371</th>\n",
       "      <td>21.43</td>\n",
       "      <td>63.94</td>\n",
       "      <td>1012.68</td>\n",
       "      <td>99.68</td>\n",
       "    </tr>\n",
       "    <tr>\n",
       "      <th>5574</th>\n",
       "      <td>28.44</td>\n",
       "      <td>77.54</td>\n",
       "      <td>1011.73</td>\n",
       "      <td>77.30</td>\n",
       "    </tr>\n",
       "    <tr>\n",
       "      <th>7182</th>\n",
       "      <td>3.20</td>\n",
       "      <td>41.31</td>\n",
       "      <td>997.67</td>\n",
       "      <td>98.84</td>\n",
       "    </tr>\n",
       "  </tbody>\n",
       "</table>\n",
       "</div>"
      ],
      "text/plain": [
       "          T      V       AP     RH\n",
       "15    21.42  43.79  1015.76  43.08\n",
       "2230  11.95  41.48  1013.44  74.83\n",
       "4371  21.43  63.94  1012.68  99.68\n",
       "5574  28.44  77.54  1011.73  77.30\n",
       "7182   3.20  41.31   997.67  98.84"
      ]
     },
     "execution_count": 32,
     "metadata": {},
     "output_type": "execute_result"
    }
   ],
   "source": [
    "X_train.head()"
   ]
  },
  {
   "cell_type": "code",
   "execution_count": 33,
   "metadata": {},
   "outputs": [
    {
     "data": {
      "text/plain": [
       "15      462.19\n",
       "2230    465.41\n",
       "4371    445.29\n",
       "5574    433.21\n",
       "7182    489.86\n",
       "Name: EP, dtype: float64"
      ]
     },
     "execution_count": 33,
     "metadata": {},
     "output_type": "execute_result"
    }
   ],
   "source": [
    "y_train.head()"
   ]
  },
  {
   "cell_type": "code",
   "execution_count": 50,
   "metadata": {},
   "outputs": [
    {
     "data": {
      "text/html": [
       "<div>\n",
       "<style>\n",
       "    .dataframe thead tr:only-child th {\n",
       "        text-align: right;\n",
       "    }\n",
       "\n",
       "    .dataframe thead th {\n",
       "        text-align: left;\n",
       "    }\n",
       "\n",
       "    .dataframe tbody tr th {\n",
       "        vertical-align: top;\n",
       "    }\n",
       "</style>\n",
       "<table border=\"1\" class=\"dataframe\">\n",
       "  <thead>\n",
       "    <tr style=\"text-align: right;\">\n",
       "      <th></th>\n",
       "      <th>T</th>\n",
       "      <th>V</th>\n",
       "      <th>AP</th>\n",
       "      <th>RH</th>\n",
       "    </tr>\n",
       "  </thead>\n",
       "  <tbody>\n",
       "    <tr>\n",
       "      <th>15</th>\n",
       "      <td>21.42</td>\n",
       "      <td>43.79</td>\n",
       "      <td>1015.76</td>\n",
       "      <td>43.08</td>\n",
       "    </tr>\n",
       "    <tr>\n",
       "      <th>2230</th>\n",
       "      <td>11.95</td>\n",
       "      <td>41.48</td>\n",
       "      <td>1013.44</td>\n",
       "      <td>74.83</td>\n",
       "    </tr>\n",
       "    <tr>\n",
       "      <th>4371</th>\n",
       "      <td>21.43</td>\n",
       "      <td>63.94</td>\n",
       "      <td>1012.68</td>\n",
       "      <td>99.68</td>\n",
       "    </tr>\n",
       "    <tr>\n",
       "      <th>5574</th>\n",
       "      <td>28.44</td>\n",
       "      <td>77.54</td>\n",
       "      <td>1011.73</td>\n",
       "      <td>77.30</td>\n",
       "    </tr>\n",
       "    <tr>\n",
       "      <th>7182</th>\n",
       "      <td>3.20</td>\n",
       "      <td>41.31</td>\n",
       "      <td>997.67</td>\n",
       "      <td>98.84</td>\n",
       "    </tr>\n",
       "  </tbody>\n",
       "</table>\n",
       "</div>"
      ],
      "text/plain": [
       "          T      V       AP     RH\n",
       "15    21.42  43.79  1015.76  43.08\n",
       "2230  11.95  41.48  1013.44  74.83\n",
       "4371  21.43  63.94  1012.68  99.68\n",
       "5574  28.44  77.54  1011.73  77.30\n",
       "7182   3.20  41.31   997.67  98.84"
      ]
     },
     "execution_count": 50,
     "metadata": {},
     "output_type": "execute_result"
    }
   ],
   "source": [
    "# load the LinearRegression() function from sklearn's 'linear_model' sub-library\n",
    "from sklearn.linear_model import LinearRegression\n",
    "\n",
    "# load the cross_val_score function from the sklearn.model_selection module\n",
    "from sklearn.model_selection import cross_val_score\n",
    "\n",
    "# create a new dataframe containing all variables \n",
    "newX_train = X_train[['T', 'V','AP','RH']].copy()\n",
    "\n",
    "# sanity check\n",
    "newX_train.head()"
   ]
  },
  {
   "cell_type": "code",
   "execution_count": 51,
   "metadata": {},
   "outputs": [
    {
     "name": "stdout",
     "output_type": "stream",
     "text": [
      "[ 0.93236026  0.92274424  0.92499926  0.92963045  0.92322747]\n"
     ]
    }
   ],
   "source": [
    "# Assing the model function you want to use to a variable\n",
    "model = LinearRegression()\n",
    "\n",
    "# fit the model using 5-fold cross validation; note how the 'model' variable created above is used as a parameter for the \n",
    "# cross_val_score() function. Also note how we can specify the number of folds to use during cross validation via the 'cv' \n",
    "# parameter\n",
    "scores = cross_val_score(model, newX_train, y_train, cv=5)\n",
    "\n",
    "# print out the accuracy metrics derived from the K-fold cross validation process\n",
    "print (scores)"
   ]
  },
  {
   "cell_type": "code",
   "execution_count": 36,
   "metadata": {},
   "outputs": [
    {
     "data": {
      "text/plain": [
       "0.92659233752791414"
      ]
     },
     "execution_count": 36,
     "metadata": {},
     "output_type": "execute_result"
    }
   ],
   "source": [
    "import numpy as np\n",
    "\n",
    "# calculate the average accuracy across all 5 folds\n",
    "np.mean(scores)"
   ]
  },
  {
   "cell_type": "code",
   "execution_count": 53,
   "metadata": {
    "scrolled": true
   },
   "outputs": [
    {
     "name": "stdout",
     "output_type": "stream",
     "text": [
      "                            OLS Regression Results                            \n",
      "==============================================================================\n",
      "Dep. Variable:                     EP   R-squared:                       0.927\n",
      "Model:                            OLS   Adj. R-squared:                  0.927\n",
      "Method:                 Least Squares   F-statistic:                 1.815e+04\n",
      "Date:                Sun, 31 May 2020   Prob (F-statistic):               0.00\n",
      "Time:                        23:10:42   Log-Likelihood:                -16887.\n",
      "No. Observations:                5740   AIC:                         3.378e+04\n",
      "Df Residuals:                    5735   BIC:                         3.382e+04\n",
      "Df Model:                           4                                         \n",
      "Covariance Type:            nonrobust                                         \n",
      "==============================================================================\n",
      "                 coef    std err          t      P>|t|      [0.025      0.975]\n",
      "------------------------------------------------------------------------------\n",
      "const        452.7295     12.731     35.562      0.000     427.773     477.686\n",
      "T             -1.9640      0.020    -98.952      0.000      -2.003      -1.925\n",
      "V             -0.2361      0.009    -25.278      0.000      -0.254      -0.218\n",
      "AP             0.0634      0.012      5.136      0.000       0.039       0.088\n",
      "RH            -0.1532      0.005    -28.079      0.000      -0.164      -0.143\n",
      "==============================================================================\n",
      "Omnibus:                      571.796   Durbin-Watson:                   1.943\n",
      "Prob(Omnibus):                  0.000   Jarque-Bera (JB):             2711.991\n",
      "Skew:                          -0.375   Prob(JB):                         0.00\n",
      "Kurtosis:                       6.283   Cond. No.                     2.14e+05\n",
      "==============================================================================\n",
      "\n",
      "Warnings:\n",
      "[1] Standard Errors assume that the covariance matrix of the errors is correctly specified.\n",
      "[2] The condition number is large, 2.14e+05. This might indicate that there are\n",
      "strong multicollinearity or other numerical problems.\n"
     ]
    }
   ],
   "source": [
    "newX_train_lm = sm.add_constant(newX_train).copy()\n",
    "\n",
    "#apply the model and fit it\n",
    "lm1 = sm.OLS(y_train, newX_train_lm)\n",
    "lm1_fit = lm1.fit()\n",
    "\n",
    "#print the results\n",
    "print(lm1_fit.summary())"
   ]
  },
  {
   "cell_type": "markdown",
   "metadata": {},
   "source": [
    "We see that all of the values are significant and that the R2 is 92.7%\n",
    "However we know that AP and RH are do not have a linear relationship \n",
    "in the underlying data. So they will need to be removed. We expect that the \n",
    "R2 will go down. "
   ]
  },
  {
   "cell_type": "code",
   "execution_count": 54,
   "metadata": {
    "scrolled": false
   },
   "outputs": [
    {
     "data": {
      "image/png": "[encoded data removed]",
      "text/plain": [
       "<matplotlib.figure.Figure at 0x17e462c5710>"
      ]
     },
     "metadata": {},
     "output_type": "display_data"
    }
   ],
   "source": [
    "# test to see if the residuals are normally distributed\n",
    "import pylab\n",
    "\n",
    "resid = lm1_fit.resid\n",
    "sm.qqplot(resid)\n",
    "pylab.show()"
   ]
  },
  {
   "cell_type": "markdown",
   "metadata": {},
   "source": [
    "We see that the residuals here are normally distributed."
   ]
  },
  {
   "cell_type": "markdown",
   "metadata": {},
   "source": [
    "#### Model 2: Partial Model\n"
   ]
  },
  {
   "cell_type": "code",
   "execution_count": 55,
   "metadata": {},
   "outputs": [
    {
     "data": {
      "text/html": [
       "<div>\n",
       "<style>\n",
       "    .dataframe thead tr:only-child th {\n",
       "        text-align: right;\n",
       "    }\n",
       "\n",
       "    .dataframe thead th {\n",
       "        text-align: left;\n",
       "    }\n",
       "\n",
       "    .dataframe tbody tr th {\n",
       "        vertical-align: top;\n",
       "    }\n",
       "</style>\n",
       "<table border=\"1\" class=\"dataframe\">\n",
       "  <thead>\n",
       "    <tr style=\"text-align: right;\">\n",
       "      <th></th>\n",
       "      <th>T</th>\n",
       "      <th>V</th>\n",
       "    </tr>\n",
       "  </thead>\n",
       "  <tbody>\n",
       "    <tr>\n",
       "      <th>15</th>\n",
       "      <td>21.42</td>\n",
       "      <td>43.79</td>\n",
       "    </tr>\n",
       "    <tr>\n",
       "      <th>2230</th>\n",
       "      <td>11.95</td>\n",
       "      <td>41.48</td>\n",
       "    </tr>\n",
       "    <tr>\n",
       "      <th>4371</th>\n",
       "      <td>21.43</td>\n",
       "      <td>63.94</td>\n",
       "    </tr>\n",
       "    <tr>\n",
       "      <th>5574</th>\n",
       "      <td>28.44</td>\n",
       "      <td>77.54</td>\n",
       "    </tr>\n",
       "    <tr>\n",
       "      <th>7182</th>\n",
       "      <td>3.20</td>\n",
       "      <td>41.31</td>\n",
       "    </tr>\n",
       "  </tbody>\n",
       "</table>\n",
       "</div>"
      ],
      "text/plain": [
       "          T      V\n",
       "15    21.42  43.79\n",
       "2230  11.95  41.48\n",
       "4371  21.43  63.94\n",
       "5574  28.44  77.54\n",
       "7182   3.20  41.31"
      ]
     },
     "execution_count": 55,
     "metadata": {},
     "output_type": "execute_result"
    }
   ],
   "source": [
    "# create a new dataframe containing only the variables T and V\n",
    "newX_train = X_train[['T', 'V']].copy()\n",
    "\n",
    "# sanity check\n",
    "newX_train.head()"
   ]
  },
  {
   "cell_type": "code",
   "execution_count": 56,
   "metadata": {},
   "outputs": [
    {
     "name": "stdout",
     "output_type": "stream",
     "text": [
      "[ 0.92066089  0.91044954  0.91192346  0.91570921  0.91252192]\n"
     ]
    }
   ],
   "source": [
    "# Assing the model function you want to use to a variable\n",
    "model = LinearRegression()\n",
    "\n",
    "# fit the model using 5-fold cross validation; note how the 'model' variable created above is used as a parameter for the \n",
    "# cross_val_score() function. Also note how we can specify the number of folds to use during cross validation via the 'cv' \n",
    "# parameter\n",
    "scores = cross_val_score(model, newX_train, y_train, cv=5)\n",
    "\n",
    "# print out the accuracy metrics derived from the K-fold cross validation process\n",
    "print (scores)"
   ]
  },
  {
   "cell_type": "code",
   "execution_count": 57,
   "metadata": {},
   "outputs": [
    {
     "data": {
      "text/plain": [
       "0.91425300403700616"
      ]
     },
     "execution_count": 57,
     "metadata": {},
     "output_type": "execute_result"
    }
   ],
   "source": [
    "# calculate the average accuracy across all 5 folds\n",
    "np.mean(scores)"
   ]
  },
  {
   "cell_type": "code",
   "execution_count": 58,
   "metadata": {
    "scrolled": true
   },
   "outputs": [
    {
     "name": "stdout",
     "output_type": "stream",
     "text": [
      "                            OLS Regression Results                            \n",
      "==============================================================================\n",
      "Dep. Variable:                     EP   R-squared:                       0.914\n",
      "Model:                            OLS   Adj. R-squared:                  0.914\n",
      "Method:                 Least Squares   F-statistic:                 3.064e+04\n",
      "Date:                Sun, 31 May 2020   Prob (F-statistic):               0.00\n",
      "Time:                        23:11:07   Log-Likelihood:                -17336.\n",
      "No. Observations:                5740   AIC:                         3.468e+04\n",
      "Df Residuals:                    5737   BIC:                         3.470e+04\n",
      "Df Model:                           2                                         \n",
      "Covariance Type:            nonrobust                                         \n",
      "==============================================================================\n",
      "                 coef    std err          t      P>|t|      [0.025      0.975]\n",
      "------------------------------------------------------------------------------\n",
      "const        505.3221      0.308   1639.398      0.000     504.718     505.926\n",
      "T             -1.7002      0.016   -105.063      0.000      -1.732      -1.668\n",
      "V             -0.3231      0.009    -34.171      0.000      -0.342      -0.305\n",
      "==============================================================================\n",
      "Omnibus:                      309.062   Durbin-Watson:                   1.971\n",
      "Prob(Omnibus):                  0.000   Jarque-Bera (JB):             1034.663\n",
      "Skew:                          -0.189   Prob(JB):                    2.12e-225\n",
      "Kurtosis:                       5.045   Cond. No.                         280.\n",
      "==============================================================================\n",
      "\n",
      "Warnings:\n",
      "[1] Standard Errors assume that the covariance matrix of the errors is correctly specified.\n"
     ]
    }
   ],
   "source": [
    "newX_train_lm = sm.add_constant(newX_train).copy()\n",
    "\n",
    "#apply the model and fit it\n",
    "lm1 = sm.OLS(y_train, newX_train_lm)\n",
    "lm1_fit = lm1.fit()\n",
    "\n",
    "#print the results\n",
    "print(lm1_fit.summary())"
   ]
  },
  {
   "cell_type": "markdown",
   "metadata": {},
   "source": [
    "We see that all of the values are significant and that the R2 is 91.4%\n",
    "We see that the R2 of this model went down a little as we expected it would."
   ]
  },
  {
   "cell_type": "code",
   "execution_count": 59,
   "metadata": {},
   "outputs": [
    {
     "data": {
      "image/png": "[encoded data removed]",
      "text/plain": [
       "<matplotlib.figure.Figure at 0x17e460bc9b0>"
      ]
     },
     "metadata": {},
     "output_type": "display_data"
    }
   ],
   "source": [
    "# test to see if the residuals are normally distributed\n",
    "import pylab\n",
    "\n",
    "resid = lm1_fit.resid\n",
    "sm.qqplot(resid)\n",
    "pylab.show()"
   ]
  },
  {
   "cell_type": "markdown",
   "metadata": {},
   "source": [
    "We see that the residuals here are normally distributed."
   ]
  },
  {
   "cell_type": "markdown",
   "metadata": {},
   "source": [
    "## Conclusion"
   ]
  },
  {
   "cell_type": "markdown",
   "metadata": {},
   "source": [
    "By removing features that violate the underlying assumptions of linear regression (i.e. they do not have a linear relationship)<br/>\n",
    "we were able to achieve a model that is more normally distributed."
   ]
  }
 ],
 "metadata": {
  "kernelspec": {
   "display_name": "Python 3",
   "language": "python",
   "name": "python3"
  },
  "language_info": {
   "codemirror_mode": {
    "name": "ipython",
    "version": 3
   },
   "file_extension": ".py",
   "mimetype": "text/x-python",
   "name": "python",
   "nbconvert_exporter": "python",
   "pygments_lexer": "ipython3",
   "version": "3.6.2"
  }
 },
 "nbformat": 4,
 "nbformat_minor": 2
}
